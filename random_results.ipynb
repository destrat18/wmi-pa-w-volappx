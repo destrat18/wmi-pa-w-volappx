{
 "cells": [
  {
   "cell_type": "code",
   "execution_count": 64,
   "metadata": {},
   "outputs": [],
   "source": [
    "import numpy as np\n",
    "import pandas as pd\n",
    "\n",
    "from ast import literal_eval\n",
    "import os, time"
   ]
  },
  {
   "cell_type": "markdown",
   "metadata": {},
   "source": [
    "# Random Functions"
   ]
  },
  {
   "cell_type": "code",
   "execution_count": 65,
   "metadata": {},
   "outputs": [],
   "source": [
    "RESULT_DIR = \"final_results\"\n",
    "benchmark = \"sqrt\""
   ]
  },
  {
   "cell_type": "code",
   "execution_count": null,
   "metadata": {},
   "outputs": [],
   "source": [
    "df = {}\n",
    "functions = None\n",
    "for f_name in os.listdir(RESULT_DIR):\n",
    "    try:\n",
    "        benchmark_name = f_name.split(\"_\")[1]\n",
    "        tool_name =  f_name.split(\"_\")[2]\n",
    "        if benchmark_name == benchmark:\n",
    "            df[tool_name] = pd.read_csv(os.path.join(RESULT_DIR, f_name)).sort_values('index')\n",
    "    except Exception as e:\n",
    "        pass"
   ]
  },
  {
   "cell_type": "code",
   "execution_count": 69,
   "metadata": {},
   "outputs": [
    {
     "data": {
      "text/html": [
       "<div>\n",
       "<style scoped>\n",
       "    .dataframe tbody tr th:only-of-type {\n",
       "        vertical-align: middle;\n",
       "    }\n",
       "\n",
       "    .dataframe tbody tr th {\n",
       "        vertical-align: top;\n",
       "    }\n",
       "\n",
       "    .dataframe thead th {\n",
       "        text-align: right;\n",
       "    }\n",
       "</style>\n",
       "<table border=\"1\" class=\"dataframe\">\n",
       "  <thead>\n",
       "    <tr style=\"text-align: right;\">\n",
       "      <th></th>\n",
       "      <th>Gubpi_output</th>\n",
       "      <th>Gubpi_time</th>\n",
       "    </tr>\n",
       "  </thead>\n",
       "  <tbody>\n",
       "    <tr>\n",
       "      <th>0</th>\n",
       "      <td>Command '['./app/GuBPI', 'experimental_results...</td>\n",
       "      <td>0.267364</td>\n",
       "    </tr>\n",
       "    <tr>\n",
       "      <th>1</th>\n",
       "      <td>(2.4207947638040466, 2.4217356529114653)</td>\n",
       "      <td>0.400509</td>\n",
       "    </tr>\n",
       "    <tr>\n",
       "      <th>2</th>\n",
       "      <td>(2.979619319933553, 3.4244508837497207)</td>\n",
       "      <td>0.416875</td>\n",
       "    </tr>\n",
       "    <tr>\n",
       "      <th>3</th>\n",
       "      <td>(2.2496577364511694, 2.839232991838528)</td>\n",
       "      <td>0.452556</td>\n",
       "    </tr>\n",
       "    <tr>\n",
       "      <th>4</th>\n",
       "      <td>(3.065971707694609, 3.0675433627474873)</td>\n",
       "      <td>0.413198</td>\n",
       "    </tr>\n",
       "  </tbody>\n",
       "</table>\n",
       "</div>"
      ],
      "text/plain": [
       "                                        Gubpi_output  Gubpi_time\n",
       "0  Command '['./app/GuBPI', 'experimental_results...    0.267364\n",
       "1           (2.4207947638040466, 2.4217356529114653)    0.400509\n",
       "2            (2.979619319933553, 3.4244508837497207)    0.416875\n",
       "3            (2.2496577364511694, 2.839232991838528)    0.452556\n",
       "4            (3.065971707694609, 3.0675433627474873)    0.413198"
      ]
     },
     "execution_count": 69,
     "metadata": {},
     "output_type": "execute_result"
    }
   ],
   "source": [
    "df_res = pd.DataFrame({\n",
    "    # \"Function\": df['faza']['formula'],\n",
    "})\n",
    "for tool in sorted(df):\n",
    "    df_res[tool.capitalize()+\"_output\"] = df[tool]['output'].fillna(df[tool]['error']).astype(str).str[:500]\n",
    "    if tool == \"volesti\":\n",
    "        df['volesti']['volumes'] = df['volesti']['details'].apply(literal_eval).apply(lambda x: np.asarray([t['output'] for t in x]))\n",
    "        a = df['volesti']['volumes'].apply(lambda x: x.mean())\n",
    "        b = df['volesti']['volumes'].apply(lambda x: x.std())\n",
    "        df_res[tool.capitalize()+\"_meanstd\"] = list(np.vstack((a, b)).T)\n",
    "    df_res[tool.capitalize()+\"_time\"] = df[tool]['time']\n",
    "\n",
    "df_res.head() "
   ]
  },
  {
   "cell_type": "code",
   "execution_count": null,
   "metadata": {},
   "outputs": [],
   "source": [
    "df_res.to_csv(os.path.join(RESULT_DIR, f'result_{benchmark}_{int(time.time())}.csv'), index=False)"
   ]
  },
  {
   "cell_type": "code",
   "execution_count": null,
   "metadata": {},
   "outputs": [],
   "source": []
  }
 ],
 "metadata": {
  "kernelspec": {
   "display_name": "venv",
   "language": "python",
   "name": "python3"
  },
  "language_info": {
   "codemirror_mode": {
    "name": "ipython",
    "version": 3
   },
   "file_extension": ".py",
   "mimetype": "text/x-python",
   "name": "python",
   "nbconvert_exporter": "python",
   "pygments_lexer": "ipython3",
   "version": "3.8.10"
  }
 },
 "nbformat": 4,
 "nbformat_minor": 2
}
