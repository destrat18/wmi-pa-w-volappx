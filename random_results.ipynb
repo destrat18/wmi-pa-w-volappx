{
 "cells": [
  {
   "cell_type": "code",
   "execution_count": 112,
   "metadata": {},
   "outputs": [],
   "source": [
    "import numpy as np\n",
    "import pandas as pd\n",
    "\n",
    "from ast import literal_eval\n",
    "import os, time"
   ]
  },
  {
   "cell_type": "markdown",
   "metadata": {},
   "source": [
    "# Random Functions"
   ]
  },
  {
   "cell_type": "code",
   "execution_count": 113,
   "metadata": {},
   "outputs": [],
   "source": [
    "RESULT_DIR = \"final_results\"\n",
    "benchmark = \"rational_sqrt\""
   ]
  },
  {
   "cell_type": "code",
   "execution_count": 114,
   "metadata": {},
   "outputs": [],
   "source": [
    "df = {}\n",
    "functions = None\n",
    "for f_name in os.listdir(RESULT_DIR):\n",
    "    try:\n",
    "        if len(f_name.split(\"_\")) == 4:\n",
    "            benchmark_name = f_name.split(\"_\")[1]\n",
    "        elif len(f_name.split(\"_\")) == 5:\n",
    "            benchmark_name = \"_\".join(f_name.split(\"_\")[1:-2])\n",
    "                \n",
    "        tool_name =  f_name.split(\"_\")[-2]\n",
    "        if benchmark_name == benchmark:\n",
    "            df[tool_name] = pd.read_csv(os.path.join(RESULT_DIR, f_name)).sort_values('index')\n",
    "    except Exception as e:\n",
    "        pass"
   ]
  },
  {
   "cell_type": "code",
   "execution_count": 115,
   "metadata": {},
   "outputs": [
    {
     "data": {
      "text/html": [
       "<div>\n",
       "<style scoped>\n",
       "    .dataframe tbody tr th:only-of-type {\n",
       "        vertical-align: middle;\n",
       "    }\n",
       "\n",
       "    .dataframe tbody tr th {\n",
       "        vertical-align: top;\n",
       "    }\n",
       "\n",
       "    .dataframe thead th {\n",
       "        text-align: right;\n",
       "    }\n",
       "</style>\n",
       "<table border=\"1\" class=\"dataframe\">\n",
       "  <thead>\n",
       "    <tr style=\"text-align: right;\">\n",
       "      <th></th>\n",
       "      <th>Gubpi_output</th>\n",
       "      <th>Gubpi_time</th>\n",
       "      <th>Psi_output</th>\n",
       "      <th>Psi_time</th>\n",
       "    </tr>\n",
       "  </thead>\n",
       "  <tbody>\n",
       "    <tr>\n",
       "      <th>0</th>\n",
       "      <td>(0.5850834106982069, 0.5853559563800296)</td>\n",
       "      <td>0.43</td>\n",
       "      <td>E[p_] = 1/Integrate[1/(-226/625+1/xi1^2*580436...</td>\n",
       "      <td>1.92</td>\n",
       "    </tr>\n",
       "    <tr>\n",
       "      <th>1</th>\n",
       "      <td>(0.6940753026396893, 0.6997831992174012)</td>\n",
       "      <td>0.52</td>\n",
       "      <td>E[p_] = 1/(-1/(100/99*Integrate[Boole[-1+xi1&lt;=...</td>\n",
       "      <td>0.04</td>\n",
       "    </tr>\n",
       "    <tr>\n",
       "      <th>2</th>\n",
       "      <td>(0.983213423102785, 0.9838691427004288)</td>\n",
       "      <td>0.53</td>\n",
       "      <td>E[p_] = (20/89)^(1/2)*451869997/100000000</td>\n",
       "      <td>0.02</td>\n",
       "    </tr>\n",
       "    <tr>\n",
       "      <th>3</th>\n",
       "      <td>(0.7722084144661071, 0.7725548915902053)</td>\n",
       "      <td>0.42</td>\n",
       "      <td>E[p_] = -30155^(1/2)*646/54945+646/54945*85100...</td>\n",
       "      <td>0.04</td>\n",
       "    </tr>\n",
       "    <tr>\n",
       "      <th>4</th>\n",
       "      <td>(1.2874941229630317, 1.2888450045581636)</td>\n",
       "      <td>0.58</td>\n",
       "      <td>E[p_] = 1/(-1/(100/99*Integrate[Boole[-1+xi1&lt;=...</td>\n",
       "      <td>0.04</td>\n",
       "    </tr>\n",
       "  </tbody>\n",
       "</table>\n",
       "</div>"
      ],
      "text/plain": [
       "                               Gubpi_output  Gubpi_time  \\\n",
       "0  (0.5850834106982069, 0.5853559563800296)        0.43   \n",
       "1  (0.6940753026396893, 0.6997831992174012)        0.52   \n",
       "2   (0.983213423102785, 0.9838691427004288)        0.53   \n",
       "3  (0.7722084144661071, 0.7725548915902053)        0.42   \n",
       "4  (1.2874941229630317, 1.2888450045581636)        0.58   \n",
       "\n",
       "                                          Psi_output  Psi_time  \n",
       "0  E[p_] = 1/Integrate[1/(-226/625+1/xi1^2*580436...      1.92  \n",
       "1  E[p_] = 1/(-1/(100/99*Integrate[Boole[-1+xi1<=...      0.04  \n",
       "2          E[p_] = (20/89)^(1/2)*451869997/100000000      0.02  \n",
       "3  E[p_] = -30155^(1/2)*646/54945+646/54945*85100...      0.04  \n",
       "4  E[p_] = 1/(-1/(100/99*Integrate[Boole[-1+xi1<=...      0.04  "
      ]
     },
     "execution_count": 115,
     "metadata": {},
     "output_type": "execute_result"
    }
   ],
   "source": [
    "df_res = pd.DataFrame({\n",
    "    # \"Function\": df['faza']['formula'],\n",
    "})\n",
    "for tool in sorted(df):\n",
    "    df_res[tool.capitalize()+\"_output\"] = df[tool]['output'].fillna(df[tool]['error']).astype(str).str[:500]\n",
    "    if tool == \"volesti\":\n",
    "        df['volesti']['volumes'] = df['volesti']['details'].apply(literal_eval).apply(lambda x: np.asarray([t['output'] for t in x]))\n",
    "        a = df['volesti']['volumes'].apply(lambda x: x.mean())\n",
    "        b = df['volesti']['volumes'].apply(lambda x: x.std())\n",
    "        df_res[tool.capitalize()+\"_meanstd\"] = list(np.vstack((a, b)).T)\n",
    "    df_res[tool.capitalize()+\"_time\"] = df[tool]['time'].apply(lambda x: round(x, 2))\n",
    "\n",
    "df_res.head() "
   ]
  },
  {
   "cell_type": "code",
   "execution_count": 116,
   "metadata": {},
   "outputs": [],
   "source": [
    "df_res.to_csv(os.path.join(RESULT_DIR, f'result_{benchmark}_{int(time.time())}.csv'), index=False)"
   ]
  },
  {
   "cell_type": "code",
   "execution_count": null,
   "metadata": {},
   "outputs": [],
   "source": []
  }
 ],
 "metadata": {
  "kernelspec": {
   "display_name": "venv",
   "language": "python",
   "name": "python3"
  },
  "language_info": {
   "codemirror_mode": {
    "name": "ipython",
    "version": 3
   },
   "file_extension": ".py",
   "mimetype": "text/x-python",
   "name": "python",
   "nbconvert_exporter": "python",
   "pygments_lexer": "ipython3",
   "version": "3.8.10"
  }
 },
 "nbformat": 4,
 "nbformat_minor": 2
}
