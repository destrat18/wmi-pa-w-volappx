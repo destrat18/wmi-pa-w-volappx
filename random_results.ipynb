{
 "cells": [
  {
   "cell_type": "code",
   "execution_count": 80,
   "metadata": {},
   "outputs": [],
   "source": [
    "import numpy as np\n",
    "import pandas as pd\n",
    "\n",
    "from ast import literal_eval\n",
    "import os, time"
   ]
  },
  {
   "cell_type": "markdown",
   "metadata": {},
   "source": [
    "# Random Functions"
   ]
  },
  {
   "cell_type": "code",
   "execution_count": 81,
   "metadata": {},
   "outputs": [],
   "source": [
    "RESULT_DIR = \"final_results\"\n",
    "benchmark = \"sqrt\""
   ]
  },
  {
   "cell_type": "code",
   "execution_count": 82,
   "metadata": {},
   "outputs": [],
   "source": [
    "df = {}\n",
    "functions = None\n",
    "for f_name in os.listdir(RESULT_DIR):\n",
    "    try:\n",
    "        benchmark_name = f_name.split(\"_\")[1]\n",
    "        tool_name =  f_name.split(\"_\")[2]\n",
    "        if benchmark_name == benchmark:\n",
    "            df[tool_name] = pd.read_csv(os.path.join(RESULT_DIR, f_name)).sort_values('index')\n",
    "    except Exception as e:\n",
    "        pass"
   ]
  },
  {
   "cell_type": "code",
   "execution_count": 85,
   "metadata": {},
   "outputs": [
    {
     "data": {
      "text/plain": [
       "0     []\n",
       "1     []\n",
       "2     []\n",
       "3     []\n",
       "4     []\n",
       "5     []\n",
       "6     []\n",
       "7     []\n",
       "8     []\n",
       "9     []\n",
       "10    []\n",
       "11    []\n",
       "12    []\n",
       "13    []\n",
       "14    []\n",
       "15    []\n",
       "16    []\n",
       "17    []\n",
       "18    []\n",
       "19    []\n",
       "20    []\n",
       "21    []\n",
       "22    []\n",
       "23    []\n",
       "24    []\n",
       "25    []\n",
       "26    []\n",
       "27    []\n",
       "28    []\n",
       "29    []\n",
       "Name: details, dtype: object"
      ]
     },
     "execution_count": 85,
     "metadata": {},
     "output_type": "execute_result"
    }
   ],
   "source": [
    "df['volesti']['details'].apply(literal_eval).apply(lambda x: np.asarray([t['output'] for t in x]))"
   ]
  },
  {
   "cell_type": "code",
   "execution_count": 86,
   "metadata": {},
   "outputs": [
    {
     "name": "stderr",
     "output_type": "stream",
     "text": [
      "/tmp/ipykernel_195415/3760899871.py:8: RuntimeWarning: Mean of empty slice.\n",
      "  a = df['volesti']['volumes'].apply(lambda x: x.mean())\n",
      "/home/des/venv/lib/python3.8/site-packages/numpy/core/_methods.py:269: RuntimeWarning: Degrees of freedom <= 0 for slice\n",
      "  ret = _var(a, axis=axis, dtype=dtype, out=out, ddof=ddof,\n"
     ]
    },
    {
     "data": {
      "text/html": [
       "<div>\n",
       "<style scoped>\n",
       "    .dataframe tbody tr th:only-of-type {\n",
       "        vertical-align: middle;\n",
       "    }\n",
       "\n",
       "    .dataframe tbody tr th {\n",
       "        vertical-align: top;\n",
       "    }\n",
       "\n",
       "    .dataframe thead th {\n",
       "        text-align: right;\n",
       "    }\n",
       "</style>\n",
       "<table border=\"1\" class=\"dataframe\">\n",
       "  <thead>\n",
       "    <tr style=\"text-align: right;\">\n",
       "      <th></th>\n",
       "      <th>Function</th>\n",
       "      <th>Faza_output</th>\n",
       "      <th>Faza_time</th>\n",
       "      <th>Gubpi_output</th>\n",
       "      <th>Gubpi_time</th>\n",
       "      <th>Latte_output</th>\n",
       "      <th>Latte_time</th>\n",
       "      <th>Psi_output</th>\n",
       "      <th>Psi_time</th>\n",
       "      <th>Volesti_output</th>\n",
       "      <th>Volesti_meanstd</th>\n",
       "      <th>Volesti_time</th>\n",
       "    </tr>\n",
       "  </thead>\n",
       "  <tbody>\n",
       "    <tr>\n",
       "      <th>0</th>\n",
       "      <td>(8.14*x**0)**(1/2)</td>\n",
       "      <td>(2.798497619628902, 2.898483886718747)</td>\n",
       "      <td>6.94</td>\n",
       "      <td>Command '['./app/GuBPI', 'experimental_results...</td>\n",
       "      <td>0.27</td>\n",
       "      <td>N\\S</td>\n",
       "      <td>0.0</td>\n",
       "      <td>E[p_] = (407/50)^(1/2)</td>\n",
       "      <td>0.02</td>\n",
       "      <td>N\\S</td>\n",
       "      <td>[nan, nan]</td>\n",
       "      <td>0.0</td>\n",
       "    </tr>\n",
       "    <tr>\n",
       "      <th>1</th>\n",
       "      <td>(2.51*x**1+4.63*x**0)**(1/2)</td>\n",
       "      <td>(2.369177856445304, 2.468756103515617)</td>\n",
       "      <td>6.12</td>\n",
       "      <td>(2.4207947638040466, 2.4217356529114653)</td>\n",
       "      <td>0.40</td>\n",
       "      <td>N\\S</td>\n",
       "      <td>0.0</td>\n",
       "      <td>E[p_] = (357/50)^(3/2)*200/753+-(463/100)^(3/2...</td>\n",
       "      <td>0.04</td>\n",
       "      <td>N\\S</td>\n",
       "      <td>[nan, nan]</td>\n",
       "      <td>0.0</td>\n",
       "    </tr>\n",
       "    <tr>\n",
       "      <th>2</th>\n",
       "      <td>(6.74*x**2+2.58*x**1+8.33*x**0)**(1/2)</td>\n",
       "      <td>(3.370510101318358, 3.470426940917966)</td>\n",
       "      <td>11.53</td>\n",
       "      <td>(2.979619319933553, 3.4244508837497207)</td>\n",
       "      <td>0.42</td>\n",
       "      <td>N\\S</td>\n",
       "      <td>0.0</td>\n",
       "      <td>E[p_] = 1/Integrate[1/(-544801/2500+674/25*xi1...</td>\n",
       "      <td>1.58</td>\n",
       "      <td>N\\S</td>\n",
       "      <td>[nan, nan]</td>\n",
       "      <td>0.0</td>\n",
       "    </tr>\n",
       "    <tr>\n",
       "      <th>3</th>\n",
       "      <td>(5.7*x**3+9.91*x**2+2.4*x**1+2.86*x**0)**(1/2)</td>\n",
       "      <td>(2.786684455871587, 2.8864392089843802)</td>\n",
       "      <td>46.57</td>\n",
       "      <td>(2.2496577364511694, 2.839232991838528)</td>\n",
       "      <td>0.45</td>\n",
       "      <td>N\\S</td>\n",
       "      <td>0.0</td>\n",
       "      <td>E[p_] = 1/(-Integrate[Boole[-1+xi1&lt;=0]*Boole[-...</td>\n",
       "      <td>0.04</td>\n",
       "      <td>N\\S</td>\n",
       "      <td>[nan, nan]</td>\n",
       "      <td>0.0</td>\n",
       "    </tr>\n",
       "    <tr>\n",
       "      <th>4</th>\n",
       "      <td>(2.6*x**1+8.12*x**0)**(1/2)</td>\n",
       "      <td>(3.016962890624993, 3.116906738281241)</td>\n",
       "      <td>7.80</td>\n",
       "      <td>(3.065971707694609, 3.0675433627474873)</td>\n",
       "      <td>0.41</td>\n",
       "      <td>N\\S</td>\n",
       "      <td>0.0</td>\n",
       "      <td>E[p_] = (268/25)^(3/2)*10/39+-(203/25)^(3/2)*1...</td>\n",
       "      <td>0.04</td>\n",
       "      <td>N\\S</td>\n",
       "      <td>[nan, nan]</td>\n",
       "      <td>0.0</td>\n",
       "    </tr>\n",
       "  </tbody>\n",
       "</table>\n",
       "</div>"
      ],
      "text/plain": [
       "                                         Function  \\\n",
       "0                              (8.14*x**0)**(1/2)   \n",
       "1                    (2.51*x**1+4.63*x**0)**(1/2)   \n",
       "2          (6.74*x**2+2.58*x**1+8.33*x**0)**(1/2)   \n",
       "3  (5.7*x**3+9.91*x**2+2.4*x**1+2.86*x**0)**(1/2)   \n",
       "4                     (2.6*x**1+8.12*x**0)**(1/2)   \n",
       "\n",
       "                               Faza_output  Faza_time  \\\n",
       "0   (2.798497619628902, 2.898483886718747)       6.94   \n",
       "1   (2.369177856445304, 2.468756103515617)       6.12   \n",
       "2   (3.370510101318358, 3.470426940917966)      11.53   \n",
       "3  (2.786684455871587, 2.8864392089843802)      46.57   \n",
       "4   (3.016962890624993, 3.116906738281241)       7.80   \n",
       "\n",
       "                                        Gubpi_output  Gubpi_time Latte_output  \\\n",
       "0  Command '['./app/GuBPI', 'experimental_results...        0.27          N\\S   \n",
       "1           (2.4207947638040466, 2.4217356529114653)        0.40          N\\S   \n",
       "2            (2.979619319933553, 3.4244508837497207)        0.42          N\\S   \n",
       "3            (2.2496577364511694, 2.839232991838528)        0.45          N\\S   \n",
       "4            (3.065971707694609, 3.0675433627474873)        0.41          N\\S   \n",
       "\n",
       "   Latte_time                                         Psi_output  Psi_time  \\\n",
       "0         0.0                             E[p_] = (407/50)^(1/2)      0.02   \n",
       "1         0.0  E[p_] = (357/50)^(3/2)*200/753+-(463/100)^(3/2...      0.04   \n",
       "2         0.0  E[p_] = 1/Integrate[1/(-544801/2500+674/25*xi1...      1.58   \n",
       "3         0.0  E[p_] = 1/(-Integrate[Boole[-1+xi1<=0]*Boole[-...      0.04   \n",
       "4         0.0  E[p_] = (268/25)^(3/2)*10/39+-(203/25)^(3/2)*1...      0.04   \n",
       "\n",
       "  Volesti_output Volesti_meanstd  Volesti_time  \n",
       "0            N\\S      [nan, nan]           0.0  \n",
       "1            N\\S      [nan, nan]           0.0  \n",
       "2            N\\S      [nan, nan]           0.0  \n",
       "3            N\\S      [nan, nan]           0.0  \n",
       "4            N\\S      [nan, nan]           0.0  "
      ]
     },
     "execution_count": 86,
     "metadata": {},
     "output_type": "execute_result"
    }
   ],
   "source": [
    "df_res = pd.DataFrame({\n",
    "    \"Function\": df['faza']['formula'],\n",
    "})\n",
    "for tool in sorted(df):\n",
    "    df_res[tool.capitalize()+\"_output\"] = df[tool]['output'].fillna(df[tool]['error']).astype(str).str[:500]\n",
    "    if tool == \"volesti\":\n",
    "        df['volesti']['volumes'] = df['volesti']['details'].apply(literal_eval).apply(lambda x: np.asarray([t['output'] for t in x]))\n",
    "        a = df['volesti']['volumes'].apply(lambda x: x.mean())\n",
    "        b = df['volesti']['volumes'].apply(lambda x: x.std())\n",
    "        df_res[tool.capitalize()+\"_meanstd\"] = list(np.vstack((a, b)).T)\n",
    "    df_res[tool.capitalize()+\"_time\"] = df[tool]['time'].apply(lambda x: round(x, 2))\n",
    "\n",
    "df_res.head() "
   ]
  },
  {
   "cell_type": "code",
   "execution_count": 84,
   "metadata": {},
   "outputs": [],
   "source": [
    "df_res.to_csv(os.path.join(RESULT_DIR, f'result_{benchmark}_{int(time.time())}.csv'), index=False)"
   ]
  },
  {
   "cell_type": "code",
   "execution_count": null,
   "metadata": {},
   "outputs": [],
   "source": []
  }
 ],
 "metadata": {
  "kernelspec": {
   "display_name": "venv",
   "language": "python",
   "name": "python3"
  },
  "language_info": {
   "codemirror_mode": {
    "name": "ipython",
    "version": 3
   },
   "file_extension": ".py",
   "mimetype": "text/x-python",
   "name": "python",
   "nbconvert_exporter": "python",
   "pygments_lexer": "ipython3",
   "version": "3.8.10"
  }
 },
 "nbformat": 4,
 "nbformat_minor": 2
}
