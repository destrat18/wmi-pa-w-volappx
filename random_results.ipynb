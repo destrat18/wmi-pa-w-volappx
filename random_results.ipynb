{
 "cells": [
  {
   "cell_type": "code",
   "execution_count": 28,
   "metadata": {},
   "outputs": [],
   "source": [
    "import numpy as np\n",
    "import pandas as pd\n",
    "import sympy\n",
    "from ast import literal_eval\n",
    "import os, time"
   ]
  },
  {
   "cell_type": "markdown",
   "metadata": {},
   "source": [
    "# Random Functions"
   ]
  },
  {
   "cell_type": "code",
   "execution_count": 29,
   "metadata": {},
   "outputs": [],
   "source": [
    "RESULT_DIR = \"final_results\"\n",
    "benchmark = \"rational_2\""
   ]
  },
  {
   "cell_type": "code",
   "execution_count": 30,
   "metadata": {},
   "outputs": [
    {
     "name": "stdout",
     "output_type": "stream",
     "text": [
      "list index out of range\n"
     ]
    }
   ],
   "source": [
    "df = {}\n",
    "functions = None\n",
    "for f_name in os.listdir(RESULT_DIR):\n",
    "    try:\n",
    "        benchmark_name = None\n",
    "        if len(f_name.split(\"_\")) == 4:\n",
    "            benchmark_name = f_name.split(\"_\")[1]\n",
    "        elif len(f_name.split(\"_\")) == 5:\n",
    "            benchmark_name = \"_\".join(f_name.split(\"_\")[1:-2])\n",
    "                \n",
    "        tool_name =  f_name.split(\"_\")[-2]\n",
    "        if benchmark_name == benchmark:\n",
    "            df[tool_name] = pd.read_csv(os.path.join(RESULT_DIR, f_name)).sort_values('index')\n",
    "            \n",
    "            if tool_name == 'volesti':\n",
    "                try:\n",
    "                    df['volesti']['details'] = df['volesti']['details'].apply(literal_eval)\n",
    "                                        \n",
    "                    df['volesti']['np'] = df['volesti']['details'].apply(lambda x: np.asarray([i['output'] for i in x]))\n",
    "                    df['volesti']['output2'] = list(zip(df['volesti']['np'].apply(np.mean), df['volesti']['np'].apply(np.std)))            \n",
    "                \n",
    "                    df['volesti']['np'] = df['volesti']['details'].apply(lambda x: np.asarray([i['time'] for i in x]))\n",
    "                    df['volesti']['time'] = df['volesti']['np'].apply(np.mean)            \n",
    "                except:\n",
    "                    pass           \n",
    "                 \n",
    "            if tool_name == 'faza':\n",
    "                # try:\n",
    "                df['faza']['details'] = df['faza']['details'].apply(literal_eval)\n",
    "                df['faza']['n_hrects'] = df['faza']['details'].apply(lambda x: x['logs'][0]['hrect_checked_num'] if 'logs' in x else x['output'][-1]['hrect_checked_num'])\n",
    "                # except:\n",
    "                #     pass\n",
    "\n",
    "    except Exception as e:\n",
    "        print(e)"
   ]
  },
  {
   "cell_type": "code",
   "execution_count": 31,
   "metadata": {},
   "outputs": [],
   "source": [
    "tools = sorted(list(df.keys()))\n",
    "tool0 = tools[0]\n",
    "tool1 = tools[1]\n",
    "\n",
    "df_res = df[tool0].join(df[tool1], on='index', lsuffix=f'_{tool0}', rsuffix=f'_{tool1}', how='outer')\n",
    "\n",
    "for t in tools[2:]:\n",
    "    df_res = df_res.join(df[t].add_suffix(f'_{t}'), on='index', how='outer')\n"
   ]
  },
  {
   "cell_type": "code",
   "execution_count": 32,
   "metadata": {},
   "outputs": [
    {
     "data": {
      "text/plain": [
       "Index(['index', 'bechmark_faza', 'formula_faza', 'index_faza', 'output_faza',\n",
       "       'error_faza', 'time_faza', 'details_faza', 'n_hrects', 'bechmark_gubpi',\n",
       "       'formula_gubpi', 'bounds', 'index_gubpi', 'output_gubpi', 'error_gubpi',\n",
       "       'time_gubpi', 'details_gubpi', 'bechmark_latte', 'formula_latte',\n",
       "       'bounds_latte', 'index_latte', 'output_latte', 'error_latte',\n",
       "       'time_latte', 'details_latte', 'bechmark_volesti', 'formula_volesti',\n",
       "       'bounds_volesti', 'index_volesti', 'output_volesti', 'error_volesti',\n",
       "       'time_volesti', 'details_volesti', 'np_volesti', 'output2_volesti'],\n",
       "      dtype='object')"
      ]
     },
     "execution_count": 32,
     "metadata": {},
     "output_type": "execute_result"
    }
   ],
   "source": [
    "df_res.columns"
   ]
  },
  {
   "cell_type": "code",
   "execution_count": 33,
   "metadata": {},
   "outputs": [
    {
     "data": {
      "text/html": [
       "<div>\n",
       "<style scoped>\n",
       "    .dataframe tbody tr th:only-of-type {\n",
       "        vertical-align: middle;\n",
       "    }\n",
       "\n",
       "    .dataframe tbody tr th {\n",
       "        vertical-align: top;\n",
       "    }\n",
       "\n",
       "    .dataframe thead th {\n",
       "        text-align: right;\n",
       "    }\n",
       "</style>\n",
       "<table border=\"1\" class=\"dataframe\">\n",
       "  <thead>\n",
       "    <tr style=\"text-align: right;\">\n",
       "      <th></th>\n",
       "      <th>formula_gubpi</th>\n",
       "      <th>bounds</th>\n",
       "      <th>output_faza</th>\n",
       "      <th>time_faza</th>\n",
       "      <th>n_hrects</th>\n",
       "      <th>output_gubpi</th>\n",
       "      <th>time_gubpi</th>\n",
       "      <th>output_latte</th>\n",
       "      <th>time_latte</th>\n",
       "      <th>output_volesti</th>\n",
       "      <th>time_volesti</th>\n",
       "      <th>output2_volesti</th>\n",
       "    </tr>\n",
       "  </thead>\n",
       "  <tbody>\n",
       "    <tr>\n",
       "      <th>0</th>\n",
       "      <td>(1.03*x**2 + 0.48*x*y + 8.88*x + 1.1*y**2 + 1....</td>\n",
       "      <td>[[0.1, 1], [0.1, 1]]</td>\n",
       "      <td>(0.5898230890246405, 0.6896906251302616)</td>\n",
       "      <td>272.643</td>\n",
       "      <td>1284</td>\n",
       "      <td>(0.711266057983094, 0.8710624008180216)</td>\n",
       "      <td>0.766</td>\n",
       "      <td>Not a monomial: (5381801554707743/4 + (2091359...</td>\n",
       "      <td>0.050</td>\n",
       "      <td>(0.583847, 0.696218)</td>\n",
       "      <td>0.070</td>\n",
       "      <td>(0.648784, 0.03218630839036996)</td>\n",
       "    </tr>\n",
       "    <tr>\n",
       "      <th>1</th>\n",
       "      <td>(6.82*x**2 + 1.32*x*y + 8.69*x + 5.6*y**2 + 8....</td>\n",
       "      <td>[[0.1, 1], [0.1, 1]]</td>\n",
       "      <td>(1.7129047384964033, 1.812863288989478)</td>\n",
       "      <td>589.094</td>\n",
       "      <td>5336</td>\n",
       "      <td>(1.5639518246240296, 2.8058999441535044)</td>\n",
       "      <td>0.756</td>\n",
       "      <td>Not a monomial: (2488238794122199/8 + (1151232...</td>\n",
       "      <td>0.041</td>\n",
       "      <td>(1.59775, 1.90326)</td>\n",
       "      <td>0.070</td>\n",
       "      <td>(1.744203, 0.08964754620735582)</td>\n",
       "    </tr>\n",
       "    <tr>\n",
       "      <th>2</th>\n",
       "      <td>(5.72*x**2 + 7.83*x*y + 4.6*x + 3.43*y**2 + 8....</td>\n",
       "      <td>[[0.1, 1], [0.1, 1]]</td>\n",
       "      <td>(0.7618363752627153, 0.8617597761952512)</td>\n",
       "      <td>249.278</td>\n",
       "      <td>847</td>\n",
       "      <td>(0.7126014688609542, 1.305862755213216)</td>\n",
       "      <td>0.799</td>\n",
       "      <td>Not a monomial: (9457559217478042.0 + (5944751...</td>\n",
       "      <td>0.039</td>\n",
       "      <td>(0.745151, 0.881956)</td>\n",
       "      <td>0.065</td>\n",
       "      <td>(0.8220304, 0.052084158826268864)</td>\n",
       "    </tr>\n",
       "    <tr>\n",
       "      <th>3</th>\n",
       "      <td>(5.79*x**2 + 2.65*x*y + 4.62*x + 1.86*y**2 + 1...</td>\n",
       "      <td>[[0.1, 1], [0.1, 1]]</td>\n",
       "      <td>(0.3981118938485614, 0.4980876414244374)</td>\n",
       "      <td>266.304</td>\n",
       "      <td>1061</td>\n",
       "      <td>(0.5084030815642594, 0.6028950703253301)</td>\n",
       "      <td>0.627</td>\n",
       "      <td>Not a monomial: (8219069319951155/2 + (3670433...</td>\n",
       "      <td>0.043</td>\n",
       "      <td>(0.417201, 0.507786)</td>\n",
       "      <td>0.063</td>\n",
       "      <td>(0.4513803, 0.025515351967198098)</td>\n",
       "    </tr>\n",
       "    <tr>\n",
       "      <th>4</th>\n",
       "      <td>(7.82*x**2 + 7.55*x*y + 3.35*x + 5.83*y**2 + 8...</td>\n",
       "      <td>[[0.1, 1], [0.1, 1]]</td>\n",
       "      <td>(0.7253642810024395, 0.825341176037968)</td>\n",
       "      <td>486.233</td>\n",
       "      <td>3929</td>\n",
       "      <td>(0.8289588063133213, 1.0884849667935454)</td>\n",
       "      <td>0.637</td>\n",
       "      <td>Not a monomial: (21910012187157464.0 + (776870...</td>\n",
       "      <td>0.043</td>\n",
       "      <td>(0.711315, 0.850987)</td>\n",
       "      <td>0.061</td>\n",
       "      <td>(0.7749078, 0.039051415861143884)</td>\n",
       "    </tr>\n",
       "  </tbody>\n",
       "</table>\n",
       "</div>"
      ],
      "text/plain": [
       "                                       formula_gubpi                bounds  \\\n",
       "0  (1.03*x**2 + 0.48*x*y + 8.88*x + 1.1*y**2 + 1....  [[0.1, 1], [0.1, 1]]   \n",
       "1  (6.82*x**2 + 1.32*x*y + 8.69*x + 5.6*y**2 + 8....  [[0.1, 1], [0.1, 1]]   \n",
       "2  (5.72*x**2 + 7.83*x*y + 4.6*x + 3.43*y**2 + 8....  [[0.1, 1], [0.1, 1]]   \n",
       "3  (5.79*x**2 + 2.65*x*y + 4.62*x + 1.86*y**2 + 1...  [[0.1, 1], [0.1, 1]]   \n",
       "4  (7.82*x**2 + 7.55*x*y + 3.35*x + 5.83*y**2 + 8...  [[0.1, 1], [0.1, 1]]   \n",
       "\n",
       "                                output_faza  time_faza  n_hrects  \\\n",
       "0  (0.5898230890246405, 0.6896906251302616)    272.643      1284   \n",
       "1   (1.7129047384964033, 1.812863288989478)    589.094      5336   \n",
       "2  (0.7618363752627153, 0.8617597761952512)    249.278       847   \n",
       "3  (0.3981118938485614, 0.4980876414244374)    266.304      1061   \n",
       "4   (0.7253642810024395, 0.825341176037968)    486.233      3929   \n",
       "\n",
       "                               output_gubpi  time_gubpi  \\\n",
       "0   (0.711266057983094, 0.8710624008180216)       0.766   \n",
       "1  (1.5639518246240296, 2.8058999441535044)       0.756   \n",
       "2   (0.7126014688609542, 1.305862755213216)       0.799   \n",
       "3  (0.5084030815642594, 0.6028950703253301)       0.627   \n",
       "4  (0.8289588063133213, 1.0884849667935454)       0.637   \n",
       "\n",
       "                                        output_latte  time_latte  \\\n",
       "0  Not a monomial: (5381801554707743/4 + (2091359...       0.050   \n",
       "1  Not a monomial: (2488238794122199/8 + (1151232...       0.041   \n",
       "2  Not a monomial: (9457559217478042.0 + (5944751...       0.039   \n",
       "3  Not a monomial: (8219069319951155/2 + (3670433...       0.043   \n",
       "4  Not a monomial: (21910012187157464.0 + (776870...       0.043   \n",
       "\n",
       "         output_volesti  time_volesti                    output2_volesti  \n",
       "0  (0.583847, 0.696218)         0.070    (0.648784, 0.03218630839036996)  \n",
       "1    (1.59775, 1.90326)         0.070    (1.744203, 0.08964754620735582)  \n",
       "2  (0.745151, 0.881956)         0.065  (0.8220304, 0.052084158826268864)  \n",
       "3  (0.417201, 0.507786)         0.063  (0.4513803, 0.025515351967198098)  \n",
       "4  (0.711315, 0.850987)         0.061  (0.7749078, 0.039051415861143884)  "
      ]
     },
     "execution_count": 33,
     "metadata": {},
     "output_type": "execute_result"
    }
   ],
   "source": [
    "df_res = df_res.sort_values('index_gubpi')\n",
    "selected_cols = [f'formula_gubpi']\n",
    "selected_cols.extend(['bounds'])\n",
    "# selected_cols.extend([f'bounds_{t}' for t in tools])\n",
    "\n",
    "\n",
    "for t in tools:\n",
    "    selected_cols.append(f\"output_{t}\")\n",
    "    df_res[f\"output_{t}\"] = df_res[f\"output_{t}\"].fillna(df_res[f\"error_{t}\"]).fillna('TBD').astype(str).str[:1000]\n",
    "    selected_cols.append(f\"time_{t}\")\n",
    "    df_res[f\"time_{t}\"] = df_res[f\"time_{t}\"].fillna(0).apply(lambda x:round(x, 3))\n",
    "    if t == 'faza': \n",
    "        selected_cols.append(f\"n_hrects\")\n",
    "    elif t == 'volesti':\n",
    "        selected_cols.append(f\"output2_volesti\")\n",
    "        \n",
    "    \n",
    "df_res = df_res[selected_cols]\n",
    "df_res['formula_gubpi'] = df_res['formula_gubpi'].apply(sympy.parse_expr)\n",
    "df_res.head()"
   ]
  },
  {
   "cell_type": "code",
   "execution_count": 34,
   "metadata": {},
   "outputs": [],
   "source": [
    "df_res.to_csv(os.path.join(RESULT_DIR, f'result_{benchmark}_{int(time.time())}.csv'), index=False)"
   ]
  }
 ],
 "metadata": {
  "kernelspec": {
   "display_name": "venv",
   "language": "python",
   "name": "python3"
  },
  "language_info": {
   "codemirror_mode": {
    "name": "ipython",
    "version": 3
   },
   "file_extension": ".py",
   "mimetype": "text/x-python",
   "name": "python",
   "nbconvert_exporter": "python",
   "pygments_lexer": "ipython3",
   "version": "3.8.10"
  }
 },
 "nbformat": 4,
 "nbformat_minor": 2
}
