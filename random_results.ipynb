{
 "cells": [
  {
   "cell_type": "code",
   "execution_count": 77,
   "metadata": {},
   "outputs": [],
   "source": [
    "import numpy as np\n",
    "import pandas as pd\n",
    "import sympy\n",
    "from ast import literal_eval\n",
    "import os, time"
   ]
  },
  {
   "cell_type": "markdown",
   "metadata": {},
   "source": [
    "# Random Functions"
   ]
  },
  {
   "cell_type": "code",
   "execution_count": 78,
   "metadata": {},
   "outputs": [],
   "source": [
    "RESULT_DIR = \"final_results\"\n",
    "benchmark = \"rational_2\""
   ]
  },
  {
   "cell_type": "code",
   "execution_count": 79,
   "metadata": {},
   "outputs": [
    {
     "name": "stdout",
     "output_type": "stream",
     "text": [
      "list index out of range\n"
     ]
    }
   ],
   "source": [
    "df = {}\n",
    "functions = None\n",
    "for f_name in os.listdir(RESULT_DIR):\n",
    "    try:\n",
    "        benchmark_name = None\n",
    "        if len(f_name.split(\"_\")) == 4:\n",
    "            benchmark_name = f_name.split(\"_\")[1]\n",
    "        elif len(f_name.split(\"_\")) == 5:\n",
    "            benchmark_name = \"_\".join(f_name.split(\"_\")[1:-2])\n",
    "                \n",
    "        tool_name =  f_name.split(\"_\")[-2]\n",
    "        if benchmark_name == benchmark:\n",
    "            df[tool_name] = pd.read_csv(os.path.join(RESULT_DIR, f_name)).sort_values('index')\n",
    "            \n",
    "            if tool_name == 'volesti':\n",
    "                try:\n",
    "                    df['volesti']['details'] = df['volesti']['details'].apply(literal_eval)\n",
    "                                        \n",
    "                    df['volesti']['np'] = df['volesti']['details'].apply(lambda x: np.asarray([i['output'] for i in x]))\n",
    "                    df['volesti']['output'] = list(zip(df['volesti']['np'].apply(np.mean), df['volesti']['np'].apply(np.std)))            \n",
    "                \n",
    "                    df['volesti']['np'] = df['volesti']['details'].apply(lambda x: np.asarray([i['time'] for i in x]))\n",
    "                    df['volesti']['time'] = df['volesti']['np'].apply(np.mean)            \n",
    "                except:\n",
    "                    pass           \n",
    "                 \n",
    "            if tool_name == 'faza':\n",
    "                # try:\n",
    "                df['faza']['details'] = df['faza']['details'].apply(literal_eval)\n",
    "                df['faza']['n_hrects'] = df['faza']['details'].apply(lambda x: x['logs'][0]['hrect_checked_num'] if 'logs' in x else x['output'][-1]['hrect_checked_num'])\n",
    "                # except:\n",
    "                #     pass\n",
    "\n",
    "    except Exception as e:\n",
    "        print(e)"
   ]
  },
  {
   "cell_type": "code",
   "execution_count": 81,
   "metadata": {},
   "outputs": [],
   "source": [
    "tools = sorted(list(df.keys()))\n",
    "tool0 = tools[0]\n",
    "tool1 = tools[1]\n",
    "\n",
    "df_res = df[tool0].join(df[tool1], on='index', lsuffix=f'_{tool0}', rsuffix=f'_{tool1}', how='outer')\n",
    "\n",
    "for t in tools[2:]:\n",
    "    df_res = df_res.join(df[t].add_suffix(f'_{t}'), on='index', how='outer')\n"
   ]
  },
  {
   "cell_type": "code",
   "execution_count": 83,
   "metadata": {},
   "outputs": [
    {
     "data": {
      "text/plain": [
       "Index(['index', 'bechmark_faza', 'formula_faza', 'index_faza', 'output_faza',\n",
       "       'error_faza', 'time_faza', 'details_faza', 'n_hrects', 'bechmark_gubpi',\n",
       "       'formula_gubpi', 'bounds', 'index_gubpi', 'output_gubpi', 'error_gubpi',\n",
       "       'time_gubpi', 'details_gubpi', 'bechmark_latte', 'formula_latte',\n",
       "       'bounds_latte', 'index_latte', 'output_latte', 'error_latte',\n",
       "       'time_latte', 'details_latte', 'bechmark_volesti', 'formula_volesti',\n",
       "       'bounds_volesti', 'index_volesti', 'output_volesti', 'error_volesti',\n",
       "       'time_volesti', 'details_volesti', 'np_volesti'],\n",
       "      dtype='object')"
      ]
     },
     "execution_count": 83,
     "metadata": {},
     "output_type": "execute_result"
    }
   ],
   "source": [
    "df_res.columns"
   ]
  },
  {
   "cell_type": "code",
   "execution_count": null,
   "metadata": {},
   "outputs": [
    {
     "ename": "KeyError",
     "evalue": "\"['bounds_gubpi'] not in index\"",
     "output_type": "error",
     "traceback": [
      "\u001b[0;31m---------------------------------------------------------------------------\u001b[0m",
      "\u001b[0;31mKeyError\u001b[0m                                  Traceback (most recent call last)",
      "Cell \u001b[0;32mIn[82], line 14\u001b[0m\n\u001b[1;32m     11\u001b[0m     df_res[\u001b[38;5;124mf\u001b[39m\u001b[38;5;124m\"\u001b[39m\u001b[38;5;124mtime_\u001b[39m\u001b[38;5;132;01m{\u001b[39;00mt\u001b[38;5;132;01m}\u001b[39;00m\u001b[38;5;124m\"\u001b[39m] \u001b[38;5;241m=\u001b[39m df_res[\u001b[38;5;124mf\u001b[39m\u001b[38;5;124m\"\u001b[39m\u001b[38;5;124mtime_\u001b[39m\u001b[38;5;132;01m{\u001b[39;00mt\u001b[38;5;132;01m}\u001b[39;00m\u001b[38;5;124m\"\u001b[39m]\u001b[38;5;241m.\u001b[39mfillna(\u001b[38;5;241m0\u001b[39m)\u001b[38;5;241m.\u001b[39mapply(\u001b[38;5;28;01mlambda\u001b[39;00m x:\u001b[38;5;28mround\u001b[39m(x, \u001b[38;5;241m3\u001b[39m)) \n\u001b[1;32m     12\u001b[0m     selected_cols\u001b[38;5;241m.\u001b[39mappend(\u001b[38;5;124mf\u001b[39m\u001b[38;5;124m\"\u001b[39m\u001b[38;5;124mn_hrects\u001b[39m\u001b[38;5;124m\"\u001b[39m)\n\u001b[0;32m---> 14\u001b[0m df_res \u001b[38;5;241m=\u001b[39m \u001b[43mdf_res\u001b[49m\u001b[43m[\u001b[49m\u001b[43mselected_cols\u001b[49m\u001b[43m]\u001b[49m\n\u001b[1;32m     15\u001b[0m df_res[\u001b[38;5;124m'\u001b[39m\u001b[38;5;124mformula_gubpi\u001b[39m\u001b[38;5;124m'\u001b[39m] \u001b[38;5;241m=\u001b[39m df_res[\u001b[38;5;124m'\u001b[39m\u001b[38;5;124mformula_gubpi\u001b[39m\u001b[38;5;124m'\u001b[39m]\u001b[38;5;241m.\u001b[39mapply(sympy\u001b[38;5;241m.\u001b[39mparse_expr)\n\u001b[1;32m     16\u001b[0m df_res\n",
      "File \u001b[0;32m~/venv/lib/python3.8/site-packages/pandas/core/frame.py:3767\u001b[0m, in \u001b[0;36mDataFrame.__getitem__\u001b[0;34m(self, key)\u001b[0m\n\u001b[1;32m   3765\u001b[0m     \u001b[38;5;28;01mif\u001b[39;00m is_iterator(key):\n\u001b[1;32m   3766\u001b[0m         key \u001b[38;5;241m=\u001b[39m \u001b[38;5;28mlist\u001b[39m(key)\n\u001b[0;32m-> 3767\u001b[0m     indexer \u001b[38;5;241m=\u001b[39m \u001b[38;5;28;43mself\u001b[39;49m\u001b[38;5;241;43m.\u001b[39;49m\u001b[43mcolumns\u001b[49m\u001b[38;5;241;43m.\u001b[39;49m\u001b[43m_get_indexer_strict\u001b[49m\u001b[43m(\u001b[49m\u001b[43mkey\u001b[49m\u001b[43m,\u001b[49m\u001b[43m \u001b[49m\u001b[38;5;124;43m\"\u001b[39;49m\u001b[38;5;124;43mcolumns\u001b[39;49m\u001b[38;5;124;43m\"\u001b[39;49m\u001b[43m)\u001b[49m[\u001b[38;5;241m1\u001b[39m]\n\u001b[1;32m   3769\u001b[0m \u001b[38;5;66;03m# take() does not accept boolean indexers\u001b[39;00m\n\u001b[1;32m   3770\u001b[0m \u001b[38;5;28;01mif\u001b[39;00m \u001b[38;5;28mgetattr\u001b[39m(indexer, \u001b[38;5;124m\"\u001b[39m\u001b[38;5;124mdtype\u001b[39m\u001b[38;5;124m\"\u001b[39m, \u001b[38;5;28;01mNone\u001b[39;00m) \u001b[38;5;241m==\u001b[39m \u001b[38;5;28mbool\u001b[39m:\n",
      "File \u001b[0;32m~/venv/lib/python3.8/site-packages/pandas/core/indexes/base.py:5877\u001b[0m, in \u001b[0;36mIndex._get_indexer_strict\u001b[0;34m(self, key, axis_name)\u001b[0m\n\u001b[1;32m   5874\u001b[0m \u001b[38;5;28;01melse\u001b[39;00m:\n\u001b[1;32m   5875\u001b[0m     keyarr, indexer, new_indexer \u001b[38;5;241m=\u001b[39m \u001b[38;5;28mself\u001b[39m\u001b[38;5;241m.\u001b[39m_reindex_non_unique(keyarr)\n\u001b[0;32m-> 5877\u001b[0m \u001b[38;5;28;43mself\u001b[39;49m\u001b[38;5;241;43m.\u001b[39;49m\u001b[43m_raise_if_missing\u001b[49m\u001b[43m(\u001b[49m\u001b[43mkeyarr\u001b[49m\u001b[43m,\u001b[49m\u001b[43m \u001b[49m\u001b[43mindexer\u001b[49m\u001b[43m,\u001b[49m\u001b[43m \u001b[49m\u001b[43maxis_name\u001b[49m\u001b[43m)\u001b[49m\n\u001b[1;32m   5879\u001b[0m keyarr \u001b[38;5;241m=\u001b[39m \u001b[38;5;28mself\u001b[39m\u001b[38;5;241m.\u001b[39mtake(indexer)\n\u001b[1;32m   5880\u001b[0m \u001b[38;5;28;01mif\u001b[39;00m \u001b[38;5;28misinstance\u001b[39m(key, Index):\n\u001b[1;32m   5881\u001b[0m     \u001b[38;5;66;03m# GH 42790 - Preserve name from an Index\u001b[39;00m\n",
      "File \u001b[0;32m~/venv/lib/python3.8/site-packages/pandas/core/indexes/base.py:5941\u001b[0m, in \u001b[0;36mIndex._raise_if_missing\u001b[0;34m(self, key, indexer, axis_name)\u001b[0m\n\u001b[1;32m   5938\u001b[0m     \u001b[38;5;28;01mraise\u001b[39;00m \u001b[38;5;167;01mKeyError\u001b[39;00m(\u001b[38;5;124mf\u001b[39m\u001b[38;5;124m\"\u001b[39m\u001b[38;5;124mNone of [\u001b[39m\u001b[38;5;132;01m{\u001b[39;00mkey\u001b[38;5;132;01m}\u001b[39;00m\u001b[38;5;124m] are in the [\u001b[39m\u001b[38;5;132;01m{\u001b[39;00maxis_name\u001b[38;5;132;01m}\u001b[39;00m\u001b[38;5;124m]\u001b[39m\u001b[38;5;124m\"\u001b[39m)\n\u001b[1;32m   5940\u001b[0m not_found \u001b[38;5;241m=\u001b[39m \u001b[38;5;28mlist\u001b[39m(ensure_index(key)[missing_mask\u001b[38;5;241m.\u001b[39mnonzero()[\u001b[38;5;241m0\u001b[39m]]\u001b[38;5;241m.\u001b[39munique())\n\u001b[0;32m-> 5941\u001b[0m \u001b[38;5;28;01mraise\u001b[39;00m \u001b[38;5;167;01mKeyError\u001b[39;00m(\u001b[38;5;124mf\u001b[39m\u001b[38;5;124m\"\u001b[39m\u001b[38;5;132;01m{\u001b[39;00mnot_found\u001b[38;5;132;01m}\u001b[39;00m\u001b[38;5;124m not in index\u001b[39m\u001b[38;5;124m\"\u001b[39m)\n",
      "\u001b[0;31mKeyError\u001b[0m: \"['bounds_gubpi'] not in index\""
     ]
    }
   ],
   "source": [
    "df_res = df_res.sort_values('index_gubpi')\n",
    "selected_cols = [f'formula_gubpi']\n",
    "selected_cols.extend(['bounds'])\n",
    "# selected_cols.extend([f'bounds_{t}' for t in tools])\n",
    "\n",
    "\n",
    "for t in tools:\n",
    "    selected_cols.append(f\"output_{t}\")\n",
    "    df_res[f\"output_{t}\"] = df_res[f\"output_{t}\"].fillna(df_res[f\"error_{t}\"]).fillna('TBD').astype(str).str[:1000]\n",
    "    selected_cols.append(f\"time_{t}\")\n",
    "    df_res[f\"time_{t}\"] = df_res[f\"time_{t}\"].fillna(0).apply(lambda x:round(x, 3)) \n",
    "    selected_cols.append(f\"n_hrects\")\n",
    "    \n",
    "df_res = df_res[selected_cols]\n",
    "df_res['formula_gubpi'] = df_res['formula_gubpi'].apply(sympy.parse_expr)\n",
    "df_res"
   ]
  },
  {
   "cell_type": "code",
   "execution_count": null,
   "metadata": {},
   "outputs": [],
   "source": [
    "df_res.to_csv(os.path.join(RESULT_DIR, f'result_{benchmark}_{int(time.time())}.csv'), index=False)"
   ]
  }
 ],
 "metadata": {
  "kernelspec": {
   "display_name": "venv",
   "language": "python",
   "name": "python3"
  },
  "language_info": {
   "codemirror_mode": {
    "name": "ipython",
    "version": 3
   },
   "file_extension": ".py",
   "mimetype": "text/x-python",
   "name": "python",
   "nbconvert_exporter": "python",
   "pygments_lexer": "ipython3",
   "version": "3.8.10"
  }
 },
 "nbformat": 4,
 "nbformat_minor": 2
}
