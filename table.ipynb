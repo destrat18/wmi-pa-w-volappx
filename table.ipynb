{
 "cells": [
  {
   "cell_type": "code",
   "execution_count": 85,
   "metadata": {},
   "outputs": [],
   "source": [
    "import pandas as pd\n",
    "import matplotlib.pyplot as plt\n",
    "from matplotlib.colors import ListedColormap\n",
    "from ast import literal_eval\n",
    "import seaborn as sns\n",
    "from sklearn.preprocessing import MinMaxScaler\n",
    "import os\n",
    "import sympy as sym\n",
    "from sympy.parsing import mathematica"
   ]
  },
  {
   "cell_type": "code",
   "execution_count": 86,
   "metadata": {},
   "outputs": [],
   "source": [
    "\n",
    "RESULTS_DIR = \"final_results\"\n",
    "benchmarks = [\n",
    "    \"rational/plain\",\n",
    "    \"rational_2/plain\",\n",
    "    \"sqrt/plain\",\n",
    "    \"rational_sqrt/plain\",\n",
    "\n",
    "    # \"rational/with_constant\",\n",
    "]"
   ]
  },
  {
   "cell_type": "code",
   "execution_count": null,
   "metadata": {},
   "outputs": [],
   "source": []
  },
  {
   "cell_type": "code",
   "execution_count": 87,
   "metadata": {},
   "outputs": [],
   "source": [
    "def process_output(row):\n",
    "    if pd.isnull(row):\n",
    "        return (None, None)\n",
    "\n",
    "    try:\n",
    "        row = float(row)\n",
    "        return (row, row)\n",
    "    except:\n",
    "        pass\n",
    "\n",
    "    try:\n",
    "        return literal_eval(str(row).strip())\n",
    "    except Exception as e:\n",
    "        pass\n",
    "    \n",
    "    try:\n",
    "        for w in ['integrate', 'boole']:\n",
    "            if w in row.lower():\n",
    "                return (None, None)        \n",
    "        \n",
    "        row = row.replace(\"[\",'(').replace(\"]\", \")\").replace(\"L\", \"l\").replace(\"E(p_) =\", \"\").replace(\"^\", \"**\").strip()\n",
    "        row = sym.parse_expr(row).evalf()\n",
    "        \n",
    "        return (row,row)\n",
    "        \n",
    "    except Exception as e:\n",
    "        print(e, row)\n",
    "    \n",
    "        \n",
    "    return (None, None)"
   ]
  },
  {
   "cell_type": "code",
   "execution_count": 88,
   "metadata": {},
   "outputs": [],
   "source": [
    "def process_time(row):\n",
    "    if pd.isnull(row):\n",
    "        return None\n",
    "\n",
    "    try:\n",
    "        row = float(row)\n",
    "        return row\n",
    "    except:\n",
    "        pass\n",
    "\n",
    "    try:\n",
    "        return literal_eval(str(row).strip())[0]\n",
    "    except Exception as e:\n",
    "        pass\n",
    "        \n",
    "    except Exception as e:\n",
    "        print(e, row)\n",
    "    \n",
    "        \n",
    "    return None"
   ]
  },
  {
   "cell_type": "code",
   "execution_count": 89,
   "metadata": {},
   "outputs": [],
   "source": [
    "def process_benchmark(benchmark):\n",
    "    df_list = []\n",
    "    for f_name in os.listdir(os.path.join(RESULTS_DIR, benchmark)):\n",
    "        tool_name =  f_name.split(\"_\")[-2]\n",
    "        df_ = pd.read_csv(os.path.join(RESULTS_DIR, benchmark, f_name))\n",
    "        df_['tool'] = tool_name\n",
    "        df_list.append(df_[['index', 'tool','output', 'time']])\n",
    "    df = pd.concat(df_list)\n",
    "\n",
    "    df['output'] = df['output'].apply(process_output)\n",
    "    df['time'] = df['time'].apply(process_time)\n",
    "    \n",
    "    df['lower'], df['upper'] = df['output'].apply(lambda o: o[0]),df['output'].apply(lambda o: o[1])\n",
    "    df['error'] = df['upper']-df['lower']\n",
    "    df['benchmark'] = benchmark\n",
    "    df['is_solved'] = (~pd.isnull(df['error']))&(df['time']<=3600)\n",
    "    return df"
   ]
  },
  {
   "cell_type": "code",
   "execution_count": 90,
   "metadata": {},
   "outputs": [],
   "source": [
    "df_b_list = []\n",
    "for b in benchmarks:\n",
    "    df_b_list.append(process_benchmark(b))\n",
    "\n",
    "df_b = pd.concat(df_b_list)"
   ]
  },
  {
   "cell_type": "code",
   "execution_count": 91,
   "metadata": {},
   "outputs": [
    {
     "data": {
      "text/html": [
       "<div>\n",
       "<style scoped>\n",
       "    .dataframe tbody tr th:only-of-type {\n",
       "        vertical-align: middle;\n",
       "    }\n",
       "\n",
       "    .dataframe tbody tr th {\n",
       "        vertical-align: top;\n",
       "    }\n",
       "\n",
       "    .dataframe thead th {\n",
       "        text-align: right;\n",
       "    }\n",
       "</style>\n",
       "<table border=\"1\" class=\"dataframe\">\n",
       "  <thead>\n",
       "    <tr style=\"text-align: right;\">\n",
       "      <th></th>\n",
       "      <th>index</th>\n",
       "      <th>tool</th>\n",
       "      <th>output</th>\n",
       "      <th>time</th>\n",
       "      <th>lower</th>\n",
       "      <th>upper</th>\n",
       "      <th>error</th>\n",
       "      <th>benchmark</th>\n",
       "      <th>is_solved</th>\n",
       "    </tr>\n",
       "  </thead>\n",
       "  <tbody>\n",
       "  </tbody>\n",
       "</table>\n",
       "</div>"
      ],
      "text/plain": [
       "Empty DataFrame\n",
       "Columns: [index, tool, output, time, lower, upper, error, benchmark, is_solved]\n",
       "Index: []"
      ]
     },
     "execution_count": 91,
     "metadata": {},
     "output_type": "execute_result"
    }
   ],
   "source": [
    "df_b[(df_b.tool=='psi' )& (df_b.benchmark=='rational_2/plain')]"
   ]
  },
  {
   "cell_type": "code",
   "execution_count": 92,
   "metadata": {},
   "outputs": [
    {
     "data": {
      "text/html": [
       "<div>\n",
       "<style scoped>\n",
       "    .dataframe tbody tr th:only-of-type {\n",
       "        vertical-align: middle;\n",
       "    }\n",
       "\n",
       "    .dataframe tbody tr th {\n",
       "        vertical-align: top;\n",
       "    }\n",
       "\n",
       "    .dataframe thead th {\n",
       "        text-align: right;\n",
       "    }\n",
       "</style>\n",
       "<table border=\"1\" class=\"dataframe\">\n",
       "  <thead>\n",
       "    <tr style=\"text-align: right;\">\n",
       "      <th>tool</th>\n",
       "      <th>faza</th>\n",
       "      <th>gubpi</th>\n",
       "      <th>latte</th>\n",
       "      <th>psi</th>\n",
       "      <th>volesti</th>\n",
       "    </tr>\n",
       "    <tr>\n",
       "      <th>benchmark</th>\n",
       "      <th></th>\n",
       "      <th></th>\n",
       "      <th></th>\n",
       "      <th></th>\n",
       "      <th></th>\n",
       "    </tr>\n",
       "  </thead>\n",
       "  <tbody>\n",
       "    <tr>\n",
       "      <th>rational/plain</th>\n",
       "      <td>0.015133</td>\n",
       "      <td>2.130043</td>\n",
       "      <td>0.0</td>\n",
       "      <td>0.0</td>\n",
       "      <td>0.295519</td>\n",
       "    </tr>\n",
       "    <tr>\n",
       "      <th>rational_2/plain</th>\n",
       "      <td>0.000073</td>\n",
       "      <td>0.430110</td>\n",
       "      <td>NaN</td>\n",
       "      <td>NaN</td>\n",
       "      <td>0.098615</td>\n",
       "    </tr>\n",
       "    <tr>\n",
       "      <th>rational_sqrt/plain</th>\n",
       "      <td>0.040102</td>\n",
       "      <td>0.000814</td>\n",
       "      <td>NaN</td>\n",
       "      <td>NaN</td>\n",
       "      <td>NaN</td>\n",
       "    </tr>\n",
       "    <tr>\n",
       "      <th>sqrt/plain</th>\n",
       "      <td>0.000364</td>\n",
       "      <td>0.455869</td>\n",
       "      <td>NaN</td>\n",
       "      <td>0.0</td>\n",
       "      <td>NaN</td>\n",
       "    </tr>\n",
       "  </tbody>\n",
       "</table>\n",
       "</div>"
      ],
      "text/plain": [
       "tool                     faza     gubpi  latte  psi   volesti\n",
       "benchmark                                                    \n",
       "rational/plain       0.015133  2.130043    0.0  0.0  0.295519\n",
       "rational_2/plain     0.000073  0.430110    NaN  NaN  0.098615\n",
       "rational_sqrt/plain  0.040102  0.000814    NaN  NaN       NaN\n",
       "sqrt/plain           0.000364  0.455869    NaN  0.0       NaN"
      ]
     },
     "execution_count": 92,
     "metadata": {},
     "output_type": "execute_result"
    }
   ],
   "source": [
    "prop = 'error'\n",
    "method = 'std'\n",
    "\n",
    "df_ = df_b[[prop, 'tool', 'benchmark']].groupby(['benchmark','tool']).agg({prop:[method]}).reset_index()\n",
    "df_.columns = df_.columns.droplevel(1)\n",
    "df_ = df_.pivot_table(columns='tool', index='benchmark', values=prop)\n",
    "df_"
   ]
  },
  {
   "cell_type": "code",
   "execution_count": 93,
   "metadata": {},
   "outputs": [],
   "source": [
    "df_.to_csv(os.path.join(RESULTS_DIR, f'{prop}_{method}.csv'))"
   ]
  }
 ],
 "metadata": {
  "kernelspec": {
   "display_name": "venv",
   "language": "python",
   "name": "python3"
  },
  "language_info": {
   "codemirror_mode": {
    "name": "ipython",
    "version": 3
   },
   "file_extension": ".py",
   "mimetype": "text/x-python",
   "name": "python",
   "nbconvert_exporter": "python",
   "pygments_lexer": "ipython3",
   "version": "3.8.10"
  }
 },
 "nbformat": 4,
 "nbformat_minor": 2
}
