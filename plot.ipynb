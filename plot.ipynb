{
 "cells": [
  {
   "cell_type": "code",
   "execution_count": 28,
   "metadata": {},
   "outputs": [],
   "source": [
    "import pandas as pd\n",
    "import matplotlib.pyplot as plt\n",
    "from matplotlib.colors import ListedColormap\n",
    "from ast import literal_eval\n",
    "import seaborn as sns"
   ]
  },
  {
   "cell_type": "code",
   "execution_count": null,
   "metadata": {},
   "outputs": [
    {
     "data": {
      "text/html": [
       "<svg  width=\"550\" height=\"55\"><rect x=\"0\" y=\"0\" width=\"55\" height=\"55\" style=\"fill:#1f77b4;stroke-width:2;stroke:rgb(255,255,255)\"/><rect x=\"55\" y=\"0\" width=\"55\" height=\"55\" style=\"fill:#ff7f0e;stroke-width:2;stroke:rgb(255,255,255)\"/><rect x=\"110\" y=\"0\" width=\"55\" height=\"55\" style=\"fill:#2ca02c;stroke-width:2;stroke:rgb(255,255,255)\"/><rect x=\"165\" y=\"0\" width=\"55\" height=\"55\" style=\"fill:#d62728;stroke-width:2;stroke:rgb(255,255,255)\"/><rect x=\"220\" y=\"0\" width=\"55\" height=\"55\" style=\"fill:#9467bd;stroke-width:2;stroke:rgb(255,255,255)\"/><rect x=\"275\" y=\"0\" width=\"55\" height=\"55\" style=\"fill:#8c564b;stroke-width:2;stroke:rgb(255,255,255)\"/><rect x=\"330\" y=\"0\" width=\"55\" height=\"55\" style=\"fill:#e377c2;stroke-width:2;stroke:rgb(255,255,255)\"/><rect x=\"385\" y=\"0\" width=\"55\" height=\"55\" style=\"fill:#7f7f7f;stroke-width:2;stroke:rgb(255,255,255)\"/><rect x=\"440\" y=\"0\" width=\"55\" height=\"55\" style=\"fill:#bcbd22;stroke-width:2;stroke:rgb(255,255,255)\"/><rect x=\"495\" y=\"0\" width=\"55\" height=\"55\" style=\"fill:#17becf;stroke-width:2;stroke:rgb(255,255,255)\"/></svg>"
      ],
      "text/plain": [
       "[(0.12156862745098039, 0.4666666666666667, 0.7058823529411765),\n",
       " (1.0, 0.4980392156862745, 0.054901960784313725),\n",
       " (0.17254901960784313, 0.6274509803921569, 0.17254901960784313),\n",
       " (0.8392156862745098, 0.15294117647058825, 0.1568627450980392),\n",
       " (0.5803921568627451, 0.403921568627451, 0.7411764705882353),\n",
       " (0.5490196078431373, 0.33725490196078434, 0.29411764705882354),\n",
       " (0.8901960784313725, 0.4666666666666667, 0.7607843137254902),\n",
       " (0.4980392156862745, 0.4980392156862745, 0.4980392156862745),\n",
       " (0.7372549019607844, 0.7411764705882353, 0.13333333333333333),\n",
       " (0.09019607843137255, 0.7450980392156863, 0.8117647058823529)]"
      ]
     },
     "execution_count": 29,
     "metadata": {},
     "output_type": "execute_result"
    }
   ],
   "source": [
    "# RESULT_PATH = \"final_results/result_rational_2_1736932231.csv\"\n",
    "# RESULT_PATH = \"final_results/result_rational_1736690910.csv\"\n",
    "# RESULT_PATH = \"final_results/result_sqrt_1736690918.csv\"\n",
    "RESULT_PATH = \"final_results/result_manual_1736847721.csv\"\n",
    "colors = sns.color_palette()\n",
    "colors"
   ]
  },
  {
   "cell_type": "code",
   "execution_count": 30,
   "metadata": {},
   "outputs": [
    {
     "data": {
      "text/html": [
       "<div>\n",
       "<style scoped>\n",
       "    .dataframe tbody tr th:only-of-type {\n",
       "        vertical-align: middle;\n",
       "    }\n",
       "\n",
       "    .dataframe tbody tr th {\n",
       "        vertical-align: top;\n",
       "    }\n",
       "\n",
       "    .dataframe thead th {\n",
       "        text-align: right;\n",
       "    }\n",
       "</style>\n",
       "<table border=\"1\" class=\"dataframe\">\n",
       "  <thead>\n",
       "    <tr style=\"text-align: right;\">\n",
       "      <th></th>\n",
       "      <th>formula_gubpi</th>\n",
       "      <th>output_faza</th>\n",
       "      <th>time_faza</th>\n",
       "      <th>output_gubpi</th>\n",
       "      <th>time_gubpi</th>\n",
       "      <th>output_latte</th>\n",
       "      <th>time_latte</th>\n",
       "      <th>output_psi</th>\n",
       "      <th>time_psi</th>\n",
       "      <th>output_volesti</th>\n",
       "      <th>time_volesti</th>\n",
       "    </tr>\n",
       "  </thead>\n",
       "  <tbody>\n",
       "    <tr>\n",
       "      <th>0</th>\n",
       "      <td>(8.14*x**0)**(1/2)</td>\n",
       "      <td>(2.798497619628902, 2.898483886718747)</td>\n",
       "      <td>6.938</td>\n",
       "      <td>Command '['./app/GuBPI', 'experimental_results...</td>\n",
       "      <td>0.267</td>\n",
       "      <td>N\\S</td>\n",
       "      <td>0.0</td>\n",
       "      <td>E[p_] = (407/50)^(1/2)</td>\n",
       "      <td>0.017</td>\n",
       "      <td>(nan, nan)</td>\n",
       "      <td>0.0</td>\n",
       "    </tr>\n",
       "    <tr>\n",
       "      <th>1</th>\n",
       "      <td>(2.51*x**1+4.63*x**0)**(1/2)</td>\n",
       "      <td>(2.369177856445304, 2.468756103515617)</td>\n",
       "      <td>6.117</td>\n",
       "      <td>(2.4207947638040466, 2.4217356529114653)</td>\n",
       "      <td>0.401</td>\n",
       "      <td>N\\S</td>\n",
       "      <td>0.0</td>\n",
       "      <td>E[p_] = (357/50)^(3/2)*200/753+-(463/100)^(3/2...</td>\n",
       "      <td>0.036</td>\n",
       "      <td>(nan, nan)</td>\n",
       "      <td>0.0</td>\n",
       "    </tr>\n",
       "    <tr>\n",
       "      <th>2</th>\n",
       "      <td>(6.74*x**2+2.58*x**1+8.33*x**0)**(1/2)</td>\n",
       "      <td>(3.370510101318358, 3.470426940917966)</td>\n",
       "      <td>11.529</td>\n",
       "      <td>(2.979619319933553, 3.4244508837497207)</td>\n",
       "      <td>0.417</td>\n",
       "      <td>N\\S</td>\n",
       "      <td>0.0</td>\n",
       "      <td>E[p_] = 1/Integrate[1/(-544801/2500+674/25*xi1...</td>\n",
       "      <td>1.577</td>\n",
       "      <td>(nan, nan)</td>\n",
       "      <td>0.0</td>\n",
       "    </tr>\n",
       "    <tr>\n",
       "      <th>3</th>\n",
       "      <td>(5.7*x**3+9.91*x**2+2.4*x**1+2.86*x**0)**(1/2)</td>\n",
       "      <td>(2.786684455871587, 2.8864392089843802)</td>\n",
       "      <td>46.566</td>\n",
       "      <td>(2.2496577364511694, 2.839232991838528)</td>\n",
       "      <td>0.453</td>\n",
       "      <td>N\\S</td>\n",
       "      <td>0.0</td>\n",
       "      <td>E[p_] = 1/(-Integrate[Boole[-1+xi1&lt;=0]*Boole[-...</td>\n",
       "      <td>0.039</td>\n",
       "      <td>(nan, nan)</td>\n",
       "      <td>0.0</td>\n",
       "    </tr>\n",
       "    <tr>\n",
       "      <th>4</th>\n",
       "      <td>(2.6*x**1+8.12*x**0)**(1/2)</td>\n",
       "      <td>(3.016962890624993, 3.116906738281241)</td>\n",
       "      <td>7.802</td>\n",
       "      <td>(3.065971707694609, 3.0675433627474873)</td>\n",
       "      <td>0.413</td>\n",
       "      <td>N\\S</td>\n",
       "      <td>0.0</td>\n",
       "      <td>E[p_] = (268/25)^(3/2)*10/39+-(203/25)^(3/2)*1...</td>\n",
       "      <td>0.040</td>\n",
       "      <td>(nan, nan)</td>\n",
       "      <td>0.0</td>\n",
       "    </tr>\n",
       "  </tbody>\n",
       "</table>\n",
       "</div>"
      ],
      "text/plain": [
       "                                    formula_gubpi  \\\n",
       "0                              (8.14*x**0)**(1/2)   \n",
       "1                    (2.51*x**1+4.63*x**0)**(1/2)   \n",
       "2          (6.74*x**2+2.58*x**1+8.33*x**0)**(1/2)   \n",
       "3  (5.7*x**3+9.91*x**2+2.4*x**1+2.86*x**0)**(1/2)   \n",
       "4                     (2.6*x**1+8.12*x**0)**(1/2)   \n",
       "\n",
       "                               output_faza  time_faza  \\\n",
       "0   (2.798497619628902, 2.898483886718747)      6.938   \n",
       "1   (2.369177856445304, 2.468756103515617)      6.117   \n",
       "2   (3.370510101318358, 3.470426940917966)     11.529   \n",
       "3  (2.786684455871587, 2.8864392089843802)     46.566   \n",
       "4   (3.016962890624993, 3.116906738281241)      7.802   \n",
       "\n",
       "                                        output_gubpi  time_gubpi output_latte  \\\n",
       "0  Command '['./app/GuBPI', 'experimental_results...       0.267          N\\S   \n",
       "1           (2.4207947638040466, 2.4217356529114653)       0.401          N\\S   \n",
       "2            (2.979619319933553, 3.4244508837497207)       0.417          N\\S   \n",
       "3            (2.2496577364511694, 2.839232991838528)       0.453          N\\S   \n",
       "4            (3.065971707694609, 3.0675433627474873)       0.413          N\\S   \n",
       "\n",
       "   time_latte                                         output_psi  time_psi  \\\n",
       "0         0.0                             E[p_] = (407/50)^(1/2)     0.017   \n",
       "1         0.0  E[p_] = (357/50)^(3/2)*200/753+-(463/100)^(3/2...     0.036   \n",
       "2         0.0  E[p_] = 1/Integrate[1/(-544801/2500+674/25*xi1...     1.577   \n",
       "3         0.0  E[p_] = 1/(-Integrate[Boole[-1+xi1<=0]*Boole[-...     0.039   \n",
       "4         0.0  E[p_] = (268/25)^(3/2)*10/39+-(203/25)^(3/2)*1...     0.040   \n",
       "\n",
       "  output_volesti  time_volesti  \n",
       "0     (nan, nan)           0.0  \n",
       "1     (nan, nan)           0.0  \n",
       "2     (nan, nan)           0.0  \n",
       "3     (nan, nan)           0.0  \n",
       "4     (nan, nan)           0.0  "
      ]
     },
     "execution_count": 30,
     "metadata": {},
     "output_type": "execute_result"
    }
   ],
   "source": [
    "df = pd.read_csv(RESULT_PATH)\n",
    "df.head()"
   ]
  },
  {
   "cell_type": "code",
   "execution_count": 31,
   "metadata": {},
   "outputs": [
    {
     "data": {
      "image/png": "[encoded data removed]",
      "text/plain": [
       "<Figure size 1200x800 with 1 Axes>"
      ]
     },
     "metadata": {},
     "output_type": "display_data"
    }
   ],
   "source": [
    "plt.figure(figsize=(12,8))\n",
    "\n",
    "\n",
    "for i, res in enumerate(df['output_faza'].apply(literal_eval)):\n",
    "    plt.axhline(y=i, color='black', linestyle='-', linewidth=0.1)\n",
    "    plt.axhline(y=i+1, color='black', linestyle='-', linewidth=0.1)\n",
    "    \n",
    "    plt.plot((res[0], res[1]), (i+0.8, i+0.8), color=colors[2])\n",
    "\n",
    "for i, res in enumerate(df['output_gubpi']):\n",
    "    try:\n",
    "        res = literal_eval(res)\n",
    "        plt.plot((res[0], res[1]), (i+0.5, i+0.5), color=colors[1])\n",
    "    except:\n",
    "        pass\n",
    "\n",
    "for i, res in enumerate(df['output_volesti']):\n",
    "    try:\n",
    "        res = literal_eval(res)\n",
    "        plt.plot((res[0], res[1]), (i+0.2, i+0.2), color=colors[3])\n",
    "    except:\n",
    "        pass\n",
    "\n",
    "# plt.xlim(0,1)\n",
    "plt.show()"
   ]
  }
 ],
 "metadata": {
  "kernelspec": {
   "display_name": "Python 3",
   "language": "python",
   "name": "python3"
  },
  "language_info": {
   "codemirror_mode": {
    "name": "ipython",
    "version": 3
   },
   "file_extension": ".py",
   "mimetype": "text/x-python",
   "name": "python",
   "nbconvert_exporter": "python",
   "pygments_lexer": "ipython3",
   "version": "3.10.12"
  }
 },
 "nbformat": 4,
 "nbformat_minor": 2
}
