{
 "cells": [
  {
   "cell_type": "code",
   "execution_count": 5,
   "metadata": {},
   "outputs": [],
   "source": [
    "import pandas as pd\n",
    "import matplotlib.pyplot as plt\n",
    "from matplotlib.colors import ListedColormap\n",
    "from ast import literal_eval\n",
    "import seaborn as sns"
   ]
  },
  {
   "cell_type": "code",
   "execution_count": 6,
   "metadata": {},
   "outputs": [
    {
     "data": {
      "text/html": [
       "<svg  width=\"550\" height=\"55\"><rect x=\"0\" y=\"0\" width=\"55\" height=\"55\" style=\"fill:#1f77b4;stroke-width:2;stroke:rgb(255,255,255)\"/><rect x=\"55\" y=\"0\" width=\"55\" height=\"55\" style=\"fill:#ff7f0e;stroke-width:2;stroke:rgb(255,255,255)\"/><rect x=\"110\" y=\"0\" width=\"55\" height=\"55\" style=\"fill:#2ca02c;stroke-width:2;stroke:rgb(255,255,255)\"/><rect x=\"165\" y=\"0\" width=\"55\" height=\"55\" style=\"fill:#d62728;stroke-width:2;stroke:rgb(255,255,255)\"/><rect x=\"220\" y=\"0\" width=\"55\" height=\"55\" style=\"fill:#9467bd;stroke-width:2;stroke:rgb(255,255,255)\"/><rect x=\"275\" y=\"0\" width=\"55\" height=\"55\" style=\"fill:#8c564b;stroke-width:2;stroke:rgb(255,255,255)\"/><rect x=\"330\" y=\"0\" width=\"55\" height=\"55\" style=\"fill:#e377c2;stroke-width:2;stroke:rgb(255,255,255)\"/><rect x=\"385\" y=\"0\" width=\"55\" height=\"55\" style=\"fill:#7f7f7f;stroke-width:2;stroke:rgb(255,255,255)\"/><rect x=\"440\" y=\"0\" width=\"55\" height=\"55\" style=\"fill:#bcbd22;stroke-width:2;stroke:rgb(255,255,255)\"/><rect x=\"495\" y=\"0\" width=\"55\" height=\"55\" style=\"fill:#17becf;stroke-width:2;stroke:rgb(255,255,255)\"/></svg>"
      ],
      "text/plain": [
       "[(0.12156862745098039, 0.4666666666666667, 0.7058823529411765),\n",
       " (1.0, 0.4980392156862745, 0.054901960784313725),\n",
       " (0.17254901960784313, 0.6274509803921569, 0.17254901960784313),\n",
       " (0.8392156862745098, 0.15294117647058825, 0.1568627450980392),\n",
       " (0.5803921568627451, 0.403921568627451, 0.7411764705882353),\n",
       " (0.5490196078431373, 0.33725490196078434, 0.29411764705882354),\n",
       " (0.8901960784313725, 0.4666666666666667, 0.7607843137254902),\n",
       " (0.4980392156862745, 0.4980392156862745, 0.4980392156862745),\n",
       " (0.7372549019607844, 0.7411764705882353, 0.13333333333333333),\n",
       " (0.09019607843137255, 0.7450980392156863, 0.8117647058823529)]"
      ]
     },
     "execution_count": 6,
     "metadata": {},
     "output_type": "execute_result"
    }
   ],
   "source": [
    "# RESULT_PATH = \"/workspaces/wmi-pa-w-volappx/final_results/result_rational_2_1736932231.csv\"\n",
    "RESULT_PATH = \"/workspaces/wmi-pa-w-volappx/final_results/result_rational_1736690910.csv\"\n",
    "# RESULT_PATH = \"/workspaces/wmi-pa-w-volappx/final_results/result_sqrt_1736690918.csv\"\n",
    "# RESULT_PATH = \"/workspaces/wmi-pa-w-volappx/final_results/result_manual_1736847721.csv\"\n",
    "colors = sns.color_palette()\n",
    "colors"
   ]
  },
  {
   "cell_type": "code",
   "execution_count": 7,
   "metadata": {},
   "outputs": [
    {
     "data": {
      "text/html": [
       "<div>\n",
       "<style scoped>\n",
       "    .dataframe tbody tr th:only-of-type {\n",
       "        vertical-align: middle;\n",
       "    }\n",
       "\n",
       "    .dataframe tbody tr th {\n",
       "        vertical-align: top;\n",
       "    }\n",
       "\n",
       "    .dataframe thead th {\n",
       "        text-align: right;\n",
       "    }\n",
       "</style>\n",
       "<table border=\"1\" class=\"dataframe\">\n",
       "  <thead>\n",
       "    <tr style=\"text-align: right;\">\n",
       "      <th></th>\n",
       "      <th>formula_gubpi</th>\n",
       "      <th>output_faza</th>\n",
       "      <th>time_faza</th>\n",
       "      <th>output_gubpi</th>\n",
       "      <th>time_gubpi</th>\n",
       "      <th>output_latte</th>\n",
       "      <th>time_latte</th>\n",
       "      <th>output_psi</th>\n",
       "      <th>time_psi</th>\n",
       "      <th>output_volesti</th>\n",
       "      <th>time_volesti</th>\n",
       "    </tr>\n",
       "  </thead>\n",
       "  <tbody>\n",
       "    <tr>\n",
       "      <th>0</th>\n",
       "      <td>(3.87*x**1+5.77*x**0) / (8.32*x**3 + 5.44*x**2...</td>\n",
       "      <td>(0.6209815507002485, 0.7190312692318667)</td>\n",
       "      <td>95.899</td>\n",
       "      <td>(0.6775424712848596, 0.6788097626654503)</td>\n",
       "      <td>0.483</td>\n",
       "      <td>Not a monomial: (8759501275235615/4 + (2341871...</td>\n",
       "      <td>0.061</td>\n",
       "      <td>E[p_] = 100/99*Integrate[(387/100*xi1+577/100)...</td>\n",
       "      <td>0.023</td>\n",
       "      <td>(0.6697733, 0.03167796447390521)</td>\n",
       "      <td>0.121</td>\n",
       "    </tr>\n",
       "    <tr>\n",
       "      <th>1</th>\n",
       "      <td>(2.67*x**1+3.94*x**0) / (2.08*x**1 + 2.78*x**0)</td>\n",
       "      <td>(1.3035252399983923, 1.4021111825192791)</td>\n",
       "      <td>2.971</td>\n",
       "      <td>(1.3829908706544114, 1.383145732964076)</td>\n",
       "      <td>0.432</td>\n",
       "      <td>Not a monomial: (6260003482044989.0 + (4683743...</td>\n",
       "      <td>0.037</td>\n",
       "      <td>E[p_] = 100/99*Boole[Integrate[1/(((-482469/31...</td>\n",
       "      <td>0.493</td>\n",
       "      <td>(1.3258739999999998, 0.045871780257583226)</td>\n",
       "      <td>0.124</td>\n",
       "    </tr>\n",
       "    <tr>\n",
       "      <th>2</th>\n",
       "      <td>(0.15*x**0) / (5.08*x**2 + 5.3*x**1 + 9.11*x**0)</td>\n",
       "      <td>(0, 0.016205584149650985)</td>\n",
       "      <td>11.461</td>\n",
       "      <td>(0.011671671292629613, 0.011672594335843871)</td>\n",
       "      <td>0.440</td>\n",
       "      <td>Not a monomial: (328222340842761728.0 + (18302...</td>\n",
       "      <td>0.032</td>\n",
       "      <td>E[p_] = 1/Integrate[1/(-392563/2500+1/xi1*381/...</td>\n",
       "      <td>0.200</td>\n",
       "      <td>(0.011488439999999999, 0.0005155557277346454)</td>\n",
       "      <td>0.119</td>\n",
       "    </tr>\n",
       "    <tr>\n",
       "      <th>3</th>\n",
       "      <td>(3.53*x**2+4.89*x**1+0.17*x**0) / (4.51*x**2 +...</td>\n",
       "      <td>(0.47723272447183107, 0.5754865206866198)</td>\n",
       "      <td>16.183</td>\n",
       "      <td>(0.5411507819421031, 0.5422613034688918)</td>\n",
       "      <td>0.579</td>\n",
       "      <td>Not a monomial: (20896702270999100.0 + (162489...</td>\n",
       "      <td>0.037</td>\n",
       "      <td>E[p_] = 1/Integrate[(1/((((-389197/5000*xi1+21...</td>\n",
       "      <td>111.552</td>\n",
       "      <td>(0.5467838, 0.03590879065855603)</td>\n",
       "      <td>0.113</td>\n",
       "    </tr>\n",
       "    <tr>\n",
       "      <th>4</th>\n",
       "      <td>(8.03*x**2+2.42*x**1+9.79*x**0) / (3.11*x**2 +...</td>\n",
       "      <td>(1.0119278375331635, 1.1080609820988139)</td>\n",
       "      <td>17.221</td>\n",
       "      <td>(1.0653504907070543, 1.0658492424387842)</td>\n",
       "      <td>0.641</td>\n",
       "      <td>Not a monomial: (2085729577425961/2 + (5150992...</td>\n",
       "      <td>0.042</td>\n",
       "      <td>E[p_] = 1/Integrate[(1/((((-192874/625+-84579/...</td>\n",
       "      <td>140.078</td>\n",
       "      <td>(1.0480953, 0.0498250734149986)</td>\n",
       "      <td>0.124</td>\n",
       "    </tr>\n",
       "  </tbody>\n",
       "</table>\n",
       "</div>"
      ],
      "text/plain": [
       "                                       formula_gubpi  \\\n",
       "0  (3.87*x**1+5.77*x**0) / (8.32*x**3 + 5.44*x**2...   \n",
       "1    (2.67*x**1+3.94*x**0) / (2.08*x**1 + 2.78*x**0)   \n",
       "2   (0.15*x**0) / (5.08*x**2 + 5.3*x**1 + 9.11*x**0)   \n",
       "3  (3.53*x**2+4.89*x**1+0.17*x**0) / (4.51*x**2 +...   \n",
       "4  (8.03*x**2+2.42*x**1+9.79*x**0) / (3.11*x**2 +...   \n",
       "\n",
       "                                 output_faza  time_faza  \\\n",
       "0   (0.6209815507002485, 0.7190312692318667)     95.899   \n",
       "1   (1.3035252399983923, 1.4021111825192791)      2.971   \n",
       "2                  (0, 0.016205584149650985)     11.461   \n",
       "3  (0.47723272447183107, 0.5754865206866198)     16.183   \n",
       "4   (1.0119278375331635, 1.1080609820988139)     17.221   \n",
       "\n",
       "                                   output_gubpi  time_gubpi  \\\n",
       "0      (0.6775424712848596, 0.6788097626654503)       0.483   \n",
       "1       (1.3829908706544114, 1.383145732964076)       0.432   \n",
       "2  (0.011671671292629613, 0.011672594335843871)       0.440   \n",
       "3      (0.5411507819421031, 0.5422613034688918)       0.579   \n",
       "4      (1.0653504907070543, 1.0658492424387842)       0.641   \n",
       "\n",
       "                                        output_latte  time_latte  \\\n",
       "0  Not a monomial: (8759501275235615/4 + (2341871...       0.061   \n",
       "1  Not a monomial: (6260003482044989.0 + (4683743...       0.037   \n",
       "2  Not a monomial: (328222340842761728.0 + (18302...       0.032   \n",
       "3  Not a monomial: (20896702270999100.0 + (162489...       0.037   \n",
       "4  Not a monomial: (2085729577425961/2 + (5150992...       0.042   \n",
       "\n",
       "                                          output_psi  time_psi  \\\n",
       "0  E[p_] = 100/99*Integrate[(387/100*xi1+577/100)...     0.023   \n",
       "1  E[p_] = 100/99*Boole[Integrate[1/(((-482469/31...     0.493   \n",
       "2  E[p_] = 1/Integrate[1/(-392563/2500+1/xi1*381/...     0.200   \n",
       "3  E[p_] = 1/Integrate[(1/((((-389197/5000*xi1+21...   111.552   \n",
       "4  E[p_] = 1/Integrate[(1/((((-192874/625+-84579/...   140.078   \n",
       "\n",
       "                                  output_volesti  time_volesti  \n",
       "0               (0.6697733, 0.03167796447390521)         0.121  \n",
       "1     (1.3258739999999998, 0.045871780257583226)         0.124  \n",
       "2  (0.011488439999999999, 0.0005155557277346454)         0.119  \n",
       "3               (0.5467838, 0.03590879065855603)         0.113  \n",
       "4                (1.0480953, 0.0498250734149986)         0.124  "
      ]
     },
     "execution_count": 7,
     "metadata": {},
     "output_type": "execute_result"
    }
   ],
   "source": [
    "df = pd.read_csv(RESULT_PATH)\n",
    "df.head()"
   ]
  },
  {
   "cell_type": "code",
   "execution_count": 8,
   "metadata": {},
   "outputs": [
    {
     "data": {
      "image/png": "[encoded data removed]",
      "text/plain": [
       "<Figure size 1200x800 with 1 Axes>"
      ]
     },
     "metadata": {},
     "output_type": "display_data"
    }
   ],
   "source": [
    "plt.figure(figsize=(12,8))\n",
    "\n",
    "\n",
    "for i, res in enumerate(df['output_faza'].apply(literal_eval)):\n",
    "    plt.axhline(y=i, color='black', linestyle='-', linewidth=0.1)\n",
    "    plt.axhline(y=i+1, color='black', linestyle='-', linewidth=0.1)\n",
    "    \n",
    "    plt.plot((res[0], res[1]), (i+0.8, i+0.8), color=colors[2])\n",
    "\n",
    "for i, res in enumerate(df['output_gubpi']):\n",
    "    try:\n",
    "        res = literal_eval(res)\n",
    "        plt.plot((res[0], res[1]), (i+0.5, i+0.5), color=colors[1])\n",
    "    except:\n",
    "        pass\n",
    "\n",
    "for i, res in enumerate(df['output_volesti']):\n",
    "    try:\n",
    "        res = literal_eval(res)\n",
    "        plt.plot((res[0], res[1]), (i+0.2, i+0.2), color=colors[3])\n",
    "    except:\n",
    "        pass\n",
    "\n",
    "# plt.xlim(0,1)\n",
    "plt.show()"
   ]
  }
 ],
 "metadata": {
  "kernelspec": {
   "display_name": "venv",
   "language": "python",
   "name": "python3"
  },
  "language_info": {
   "codemirror_mode": {
    "name": "ipython",
    "version": 3
   },
   "file_extension": ".py",
   "mimetype": "text/x-python",
   "name": "python",
   "nbconvert_exporter": "python",
   "pygments_lexer": "ipython3",
   "version": "3.8.10"
  }
 },
 "nbformat": 4,
 "nbformat_minor": 2
}
