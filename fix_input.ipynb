{
 "cells": [
  {
   "cell_type": "code",
   "execution_count": 22,
   "metadata": {},
   "outputs": [],
   "source": [
    "import json, random"
   ]
  },
  {
   "cell_type": "code",
   "execution_count": 23,
   "metadata": {},
   "outputs": [],
   "source": [
    "path = \"/home/des/w/InferProbProg/wmi-pa-w-volappx/final_results/random_benchmarks_rational_2.json\"\n",
    "with open(path, 'r') as f:\n",
    "    bench = json.load(f)\n",
    "\n",
    "for b in bench:\n",
    "    b['constant'] = round(random.uniform(0, 10),2)\n",
    "\n",
    "with open(path, 'w') as f:\n",
    "    json.dump(bench, f)"
   ]
  }
 ],
 "metadata": {
  "kernelspec": {
   "display_name": "Python 3",
   "language": "python",
   "name": "python3"
  },
  "language_info": {
   "codemirror_mode": {
    "name": "ipython",
    "version": 3
   },
   "file_extension": ".py",
   "mimetype": "text/x-python",
   "name": "python",
   "nbconvert_exporter": "python",
   "pygments_lexer": "ipython3",
   "version": "3.10.12"
  }
 },
 "nbformat": 4,
 "nbformat_minor": 2
}
